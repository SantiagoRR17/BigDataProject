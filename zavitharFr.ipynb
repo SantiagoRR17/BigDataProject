{
 "cells": [
  {
   "cell_type": "markdown",
   "id": "47f629f1",
   "metadata": {},
   "source": [
    "##Importar dependencias a utilizar\n"
   ]
  },
  {
   "cell_type": "code",
   "execution_count": 17,
   "id": "f6637666",
   "metadata": {},
   "outputs": [],
   "source": [
    "import pandas as pd\n",
    "import matplotlib.pyplot as plt\n",
    "from sklearn.preprocessing import OneHotEncoder\n",
    "from sklearn.preprocessing import StandardScaler\n",
    "import sklearn as skl\n",
    "from sklearn.cluster import KMeans\n"
   ]
  },
  {
   "cell_type": "code",
   "execution_count": 15,
   "id": "53253f29",
   "metadata": {},
   "outputs": [
    {
     "name": "stdout",
     "output_type": "stream",
     "text": [
      "     amount  oldbalanceOrg  newbalanceOrig  oldbalanceDest  newbalanceDest  \\\n",
      "0   9839.64       170136.0       160296.36             0.0             0.0   \n",
      "1   1864.28        21249.0        19384.72             0.0             0.0   \n",
      "2    181.00          181.0            0.00             0.0             0.0   \n",
      "3    181.00          181.0            0.00         21182.0             0.0   \n",
      "4  11668.14        41554.0        29885.86             0.0             0.0   \n",
      "\n",
      "   type_CASH_OUT  type_DEBIT  type_PAYMENT  type_TRANSFER  \n",
      "0            0.0         0.0           1.0            0.0  \n",
      "1            0.0         0.0           1.0            0.0  \n",
      "2            0.0         0.0           0.0            1.0  \n",
      "3            1.0         0.0           0.0            0.0  \n",
      "4            0.0         0.0           1.0            0.0  \n"
     ]
    }
   ],
   "source": [
    "##Se seleccionan las columnas que se van a utilizar para agrupar los datos para aplicar el algoritmo de K-means\n",
    "\n",
    "df = pd.read_csv('Dataset.csv')\n",
    "##Se toman unicamente las variables que cuentan con datos numericos y la variable tipo que es categorica para identificar el tipo de movimiento realizado\n",
    "df= df[[\"amount\", \"oldbalanceOrg\", \"newbalanceOrig\", \"oldbalanceDest\", \"newbalanceDest\", \"type\"]]\n",
    "##Debido a que type es una columna categorica, se procede a convertirla en numerica para que pueda ser utilizada en el algoritmo de K-means, para esto se implementa la tecnica de one-hot-encoding\n",
    "encoder = OneHotEncoder(sparse_output=False, drop=\"first\")  # drop=\"first\" evita multicolinealidad\n",
    "type_encoded = encoder.fit_transform(df[[\"type\"]])\n",
    "type_encoded_df = pd.DataFrame(type_encoded, columns=encoder.get_feature_names_out([\"type\"]))\n",
    "# Concatenar al dataset original y eliminar la columna 'type'\n",
    "df = pd.concat([df.drop(\"type\", axis=1).reset_index(drop=True), type_encoded_df.reset_index(drop=True)], axis=1)\n",
    "\n",
    "print(df.head())"
   ]
  },
  {
   "cell_type": "code",
   "execution_count": 16,
   "id": "4b679387",
   "metadata": {},
   "outputs": [
    {
     "name": "stdout",
     "output_type": "stream",
     "text": [
      "     amount  oldbalanceOrg  newbalanceOrig  oldbalanceDest  newbalanceDest  \\\n",
      "0 -0.281560      -0.229810       -0.237622       -0.323814       -0.333411   \n",
      "1 -0.294767      -0.281359       -0.285812       -0.323814       -0.333411   \n",
      "2 -0.297555      -0.288654       -0.292442       -0.323814       -0.333411   \n",
      "3 -0.297555      -0.288654       -0.292442       -0.317582       -0.333411   \n",
      "4 -0.278532      -0.274329       -0.282221       -0.323814       -0.333411   \n",
      "\n",
      "   type_CASH_OUT  type_DEBIT  type_PAYMENT  type_TRANSFER  \n",
      "0      -0.736484    -0.08096      1.399036      -0.302345  \n",
      "1      -0.736484    -0.08096      1.399036      -0.302345  \n",
      "2      -0.736484    -0.08096     -0.714778       3.307478  \n",
      "3       1.357803    -0.08096     -0.714778      -0.302345  \n",
      "4      -0.736484    -0.08096      1.399036      -0.302345  \n"
     ]
    }
   ],
   "source": [
    "scaler = StandardScaler()\n",
    "df_scaled = scaler.fit_transform(df)\n",
    "\n",
    "# Convertir de nuevo a DataFrame\n",
    "df_scaled = pd.DataFrame(df_scaled, columns=df.columns)\n",
    "\n",
    "print(df_scaled.head())"
   ]
  },
  {
   "cell_type": "code",
   "execution_count": 18,
   "id": "9269c49a",
   "metadata": {},
   "outputs": [
    {
     "data": {
      "image/png": "[encoded data removed]",
      "text/plain": [
       "<Figure size 640x480 with 1 Axes>"
      ]
     },
     "metadata": {},
     "output_type": "display_data"
    }
   ],
   "source": [
    "# Lista para guardar la inercia (distancia total a los centroides)\n",
    "inertia = []\n",
    "\n",
    "# Probar diferentes valores de k (número de clusters)\n",
    "for k in range(1, 11):\n",
    "    kmeans = KMeans(n_clusters=k, random_state=42, n_init=10)\n",
    "    kmeans.fit(df_scaled)\n",
    "    inertia.append(kmeans.inertia_)\n",
    "\n",
    "# Graficar\n",
    "plt.plot(range(1, 11), inertia, marker='o')\n",
    "plt.xlabel(\"Número de clusters (k)\")\n",
    "plt.ylabel(\"Inercia (Suma de cuadrados)\")\n",
    "plt.title(\"Método del Codo\")\n",
    "plt.show()"
   ]
  },
  {
   "cell_type": "code",
   "execution_count": 19,
   "id": "a11bdcb2",
   "metadata": {},
   "outputs": [
    {
     "name": "stdout",
     "output_type": "stream",
     "text": [
      "     amount  oldbalanceOrg  newbalanceOrig  oldbalanceDest  newbalanceDest  \\\n",
      "0   9839.64       170136.0       160296.36             0.0             0.0   \n",
      "1   1864.28        21249.0        19384.72             0.0             0.0   \n",
      "2    181.00          181.0            0.00             0.0             0.0   \n",
      "3    181.00          181.0            0.00         21182.0             0.0   \n",
      "4  11668.14        41554.0        29885.86             0.0             0.0   \n",
      "\n",
      "   type_CASH_OUT  type_DEBIT  type_PAYMENT  type_TRANSFER  cluster  \n",
      "0            0.0         0.0           1.0            0.0        1  \n",
      "1            0.0         0.0           1.0            0.0        1  \n",
      "2            0.0         0.0           0.0            1.0        0  \n",
      "3            1.0         0.0           0.0            0.0        2  \n",
      "4            0.0         0.0           1.0            0.0        1  \n",
      "cluster\n",
      "2    3310222\n",
      "1    2151423\n",
      "0     545231\n",
      "3     355744\n",
      "Name: count, dtype: int64\n"
     ]
    }
   ],
   "source": [
    "# Entrenar modelo con k=4\n",
    "kmeans = KMeans(n_clusters=4, random_state=42, n_init=10)\n",
    "df[\"cluster\"] = kmeans.fit_predict(df_scaled)\n",
    "\n",
    "print(df.head())\n",
    "print(df[\"cluster\"].value_counts())"
   ]
  },
  {
   "cell_type": "code",
   "execution_count": 20,
   "id": "f0d43ded",
   "metadata": {},
   "outputs": [
    {
     "name": "stdout",
     "output_type": "stream",
     "text": [
      "                amount                           oldbalanceOrg              \\\n",
      "                  mean      median           std          mean      median   \n",
      "cluster                                                                      \n",
      "0        899290.286201  473487.620  1.869657e+06  7.434366e+04        0.00   \n",
      "1         13057.536465    9482.150  1.255645e+04  6.764998e+04    10529.00   \n",
      "2        171571.761187  144780.090  1.354036e+05  3.762602e+05    14425.00   \n",
      "3        163148.500021  134531.775  1.739442e+05  1.089013e+07  8796245.11   \n",
      "\n",
      "                      newbalanceOrig                             \\\n",
      "                  std           mean       median           std   \n",
      "cluster                                                           \n",
      "0        4.543814e+05   2.799802e+04        0.000  3.063881e+05   \n",
      "1        1.574506e+05   6.127134e+04        0.000  1.549566e+05   \n",
      "2        9.771875e+05   4.116307e+05        0.000  1.023139e+06   \n",
      "3        5.686448e+06   1.105033e+07  8958247.345  5.679724e+06   \n",
      "\n",
      "        oldbalanceDest  ... type_CASH_OUT type_DEBIT                   \\\n",
      "                  mean  ...           std       mean median       std   \n",
      "cluster                 ...                                             \n",
      "0         3.364140e+06  ...      0.109216   0.000270    0.0  0.016418   \n",
      "1         0.000000e+00  ...      0.000000   0.000000    0.0  0.000000   \n",
      "2         1.352841e+06  ...      0.468769   0.012472    0.0  0.110979   \n",
      "3         1.942152e+06  ...      0.007683   0.000000    0.0  0.000000   \n",
      "\n",
      "        type_PAYMENT                  type_TRANSFER                   \n",
      "                mean median       std          mean median       std  \n",
      "cluster                                                               \n",
      "0           0.000000    0.0  0.000000      0.977289    1.0  0.148982  \n",
      "1           1.000000    1.0  0.000000      0.000000    0.0  0.000000  \n",
      "2           0.000000    0.0  0.000000      0.000000    0.0  0.000000  \n",
      "3           0.000202    0.0  0.014225      0.000171    0.0  0.013094  \n",
      "\n",
      "[4 rows x 27 columns]\n"
     ]
    }
   ],
   "source": [
    "cluster_summary = df.groupby(\"cluster\").agg([\"mean\", \"median\", \"std\"])\n",
    "print(cluster_summary)"
   ]
  }
 ],
 "metadata": {
  "kernelspec": {
   "display_name": "Python 3",
   "language": "python",
   "name": "python3"
  },
  "language_info": {
   "codemirror_mode": {
    "name": "ipython",
    "version": 3
   },
   "file_extension": ".py",
   "mimetype": "text/x-python",
   "name": "python",
   "nbconvert_exporter": "python",
   "pygments_lexer": "ipython3",
   "version": "3.12.0"
  }
 },
 "nbformat": 4,
 "nbformat_minor": 5
}
